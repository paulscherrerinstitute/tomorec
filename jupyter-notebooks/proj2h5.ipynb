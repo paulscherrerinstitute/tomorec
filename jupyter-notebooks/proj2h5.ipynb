{
 "cells": [
  {
   "cell_type": "markdown",
   "metadata": {},
   "source": [
    "# Conversion of tif files to HDF5 file"
   ]
  },
  {
   "cell_type": "markdown",
   "metadata": {},
   "source": [
    "This notebook is used to convert the\n",
    " [original tiff file data format](https://doi.psi.ch/detail/10.16907/d699e1f7-e822-4396-8c64-34ed405f07b7)  into a single HDF5 file."
   ]
  },
  {
   "cell_type": "markdown",
   "metadata": {},
   "source": [
    "## Import necessary modules - need to use the \"Tomorec Kernel\""
   ]
  },
  {
   "cell_type": "code",
   "execution_count": null,
   "metadata": {},
   "outputs": [],
   "source": [
    "import dxchange\n",
    "import numpy as np\n",
    "import h5py"
   ]
  },
  {
   "cell_type": "code",
   "execution_count": null,
   "metadata": {},
   "outputs": [],
   "source": [
    "# The directory into which the \"wget\" command was run, wich contains the data in tif file format.\n",
    "dirname = '../data/'\n",
    "\n",
    "# Go into that directory and run:\n",
    "#   wget -m -np https://doi2.psi.ch/datasets/sls/X02DA/Data10/e17068/disk1/h11913_4_3_/tif\n",
    "# After waiting 5 to 6 hours, the following directory structure will exist, where the\n",
    "# \"tif\" directory will contain 2031 .tif files start with names that follow the \n",
    "# pattern \"h11913_4_3_xxxx.tif\"\n",
    "doipath = 'doi2.psi.ch/datasets/sls/X02DA/Data10/e17068/disk1/h11913_4_3_/tif/'\n",
    "\n",
    "# For this conversion script, the beginning of the file names are needed.\n",
    "fname = dirname + doipath + 'h11913_4_3_'\n",
    "\n",
    "# Specify where to write the output HDF5 file. Make sure atleast 16 GB of space \n",
    "# is available where this will be written.\n",
    "foutname = dirname + 'hdf5-conversion/h11913_4_3.h5'"
   ]
  },
  {
   "cell_type": "code",
   "execution_count": null,
   "metadata": {},
   "outputs": [],
   "source": [
    "# Setup for the conversion\n",
    "size_proj = [1801, 1562, 2560]\n",
    "size_flat = [100, 1562, 2560]\n",
    "size_dark = [30, 1562, 2560]\n",
    "sproj = 128 # number of slices that fit to operating memory"
   ]
  },
  {
   "cell_type": "code",
   "execution_count": null,
   "metadata": {},
   "outputs": [],
   "source": [
    "# Create the output file in the location specified above\n",
    "fid = h5py.File(foutname, mode='w')\n",
    "\n",
    "# Create the structure within the file\n",
    "projh5 = fid.create_dataset('exchange/data', size_proj, dtype='uint16')\n",
    "flath5 = fid.create_dataset('exchange/data_flat', size_flat, dtype='uint16')\n",
    "darkh5 = fid.create_dataset('exchange/data_dark', size_dark, dtype='uint16')"
   ]
  },
  {
   "cell_type": "code",
   "execution_count": null,
   "metadata": {},
   "outputs": [],
   "source": [
    "# Loop over the .tif image files, write to the HDF5 output file\n",
    "# This should take 5 to 10 mintues\n",
    "for k in range(0, np.int(np.ceil(size_proj[1] / sproj))):\n",
    "   start = k*sproj\n",
    "   end = min((k + 1) * sproj, size_proj[1])\n",
    "   print(\"converting slices %d .. %d\" % (start, end))\n",
    "   proj, flat, dark = dxchange.read_sls_tomcat(fname, sino=(start, end))\n",
    "   projh5[:, start:end, :] = proj\n",
    "   flath5[:, start:end, :] = flat\n",
    "   darkh5[:, start:end, :] = dark\n",
    "\n",
    "fid.close()"
   ]
  },
  {
   "cell_type": "code",
   "execution_count": null,
   "metadata": {},
   "outputs": [],
   "source": []
  },
  {
   "cell_type": "code",
   "execution_count": null,
   "metadata": {},
   "outputs": [],
   "source": []
  }
 ],
 "metadata": {
  "kernelspec": {
   "display_name": "Tomorec Kernel",
   "language": "python",
   "name": "tomorec-kernel"
  },
  "language_info": {
   "codemirror_mode": {
    "name": "ipython",
    "version": 3
   },
   "file_extension": ".py",
   "mimetype": "text/x-python",
   "name": "python",
   "nbconvert_exporter": "python",
   "pygments_lexer": "ipython3",
   "version": "3.7.6"
  }
 },
 "nbformat": 4,
 "nbformat_minor": 4
}
