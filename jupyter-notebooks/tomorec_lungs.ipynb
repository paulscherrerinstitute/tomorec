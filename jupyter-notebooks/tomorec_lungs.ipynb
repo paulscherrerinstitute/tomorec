{
 "cells": [
  {
   "cell_type": "markdown",
   "metadata": {
    "tags": []
   },
   "source": [
    "# Tomography tomorec example notebook\n",
    "This notebook is an example to be used with the \"Tomorec Kernel\"."
   ]
  },
  {
   "cell_type": "code",
   "execution_count": null,
   "metadata": {},
   "outputs": [],
   "source": [
    "# tomopy is using internal system for compute paralelization\n",
    "# set number of Intel OpenMP threads to 1, i.e. disable internal numpy&scipy paralelization\n",
    "%env MKL_NUM_THREADS 1\n",
    "%env OMP_NUM_THREADS 1\n",
    "\n",
    "# ncore = None or optimal number of cores on the system\n",
    "ncore = 2 # None"
   ]
  },
  {
   "cell_type": "code",
   "execution_count": null,
   "metadata": {},
   "outputs": [],
   "source": [
    "# Import modules\n",
    "%pylab inline\n",
    "import tomopy\n",
    "import sirtfilter\n",
    "import dxchange\n",
    "import matplotlib.pyplot as plt\n",
    "import h5py\n",
    "import time\n",
    "import tifffile\n",
    "import numpy as np"
   ]
  },
  {
   "cell_type": "code",
   "execution_count": null,
   "metadata": {},
   "outputs": [],
   "source": [
    "# Set the path to the micro-CT data to reconstruct.\n",
    "site_data_dir = '../data/'\n",
    "input_data_file = site_data_dir + 'hdf5-conversion/h11913_4_3.h5'\n",
    "# And the resulting image created at the end of this notebook\n",
    "output_image_file = site_data_dir + 'analysis-output/gridrec_alpha15e-5.tiff'\n",
    "\n",
    "print(\"Site data root directory: %s\" % site_data_dir)"
   ]
  },
  {
   "cell_type": "code",
   "execution_count": null,
   "metadata": {},
   "outputs": [],
   "source": [
    "# Load data\n",
    "min_bin = 800\n",
    "max_bin = 850\n",
    "\n",
    "with h5py.File(input_data_file,'r') as fp:\n",
    "    proj = fp['exchange/data'][:,min_bin:max_bin,:] # [()]\n",
    "    flat = fp['exchange/data_flat'][:,min_bin:max_bin,:] # [()]\n",
    "    dark = fp['exchange/data_dark'][:,min_bin:max_bin,:] # [()]\n",
    "\n",
    "print(proj.shape, flat.shape, dark.shape)"
   ]
  },
  {
   "cell_type": "markdown",
   "metadata": {},
   "source": [
    "If the angular information is not avaialable from the raw data you need to set the data collection angles. In this case theta is set as equally spaced between 0-180 degrees."
   ]
  },
  {
   "cell_type": "code",
   "execution_count": null,
   "metadata": {},
   "outputs": [],
   "source": [
    "theta = tomopy.angles(proj.shape[0])"
   ]
  },
  {
   "cell_type": "markdown",
   "metadata": {},
   "source": [
    "Perform the flat-field correction of raw data: $$ \\frac{proj - dark} {flat - dark} $$"
   ]
  },
  {
   "cell_type": "code",
   "execution_count": null,
   "metadata": {},
   "outputs": [],
   "source": [
    "proj = tomopy.normalize(proj, flat, dark, ncore=ncore)\n",
    "print(proj.shape)"
   ]
  },
  {
   "cell_type": "code",
   "execution_count": null,
   "metadata": {},
   "outputs": [],
   "source": [
    "plt.imshow(proj[:,40, :], cmap='Greys_r')\n",
    "plt.show()"
   ]
  },
  {
   "cell_type": "markdown",
   "metadata": {},
   "source": [
    "Tomopy provides various methods to [find rotation center](http://tomopy.readthedocs.io/en/latest/api/tomopy.recon.rotation.html)."
   ]
  },
  {
   "cell_type": "code",
   "execution_count": null,
   "metadata": {},
   "outputs": [],
   "source": [
    "### we skip the rot center calculation because we know the rotation center is at 1280\n",
    "#rot_center = tomopy.find_center(proj, theta, init=1280, ind=0, tol=0.5)\n",
    "#print(rot_center)\n",
    "rot_center=1280"
   ]
  },
  {
   "cell_type": "code",
   "execution_count": null,
   "metadata": {},
   "outputs": [],
   "source": [
    "proj=tomopy.prep.phase.retrieve_phase(proj,pixel_size=0.00016,dist=19,energy=21,alpha=0.0001,pad=True,ncore=ncore)"
   ]
  },
  {
   "cell_type": "markdown",
   "metadata": {},
   "source": [
    "Reconstruction using Gridrec algorithm.Tomopy provides various [reconstruction](http://tomopy.readthedocs.io/en/latest/api/tomopy.recon.algorithm.html) methods including the one part of the [ASTRA toolbox](https://sourceforge.net/p/astra-toolbox/wiki/Home/)."
   ]
  },
  {
   "cell_type": "code",
   "execution_count": null,
   "metadata": {},
   "outputs": [],
   "source": [
    "plt.imshow(proj[:, 40,:], cmap='Greys_r')\n",
    "plt.show()"
   ]
  },
  {
   "cell_type": "markdown",
   "metadata": {},
   "source": [
    "Calculate $$ -log(proj) $$"
   ]
  },
  {
   "cell_type": "code",
   "execution_count": null,
   "metadata": {},
   "outputs": [],
   "source": [
    "proj = tomopy.minus_log(proj, ncore=ncore)"
   ]
  },
  {
   "cell_type": "markdown",
   "metadata": {},
   "source": [
    "# Padding to remove the gradient around the FOV in the reconstruction"
   ]
  },
  {
   "cell_type": "code",
   "execution_count": null,
   "metadata": {},
   "outputs": [],
   "source": [
    "N = proj.shape[2]\n",
    "proj_pad = np.zeros([proj.shape[0],proj.shape[1],3*N//2],dtype = \"float32\")\n",
    "proj_pad[:,:,N//4:5*N//4] = proj\n",
    "proj_pad[:,:,0:N//4] = np.tile(np.reshape(proj[:,:,0],[proj.shape[0],proj.shape[1],1]),(1,1,N//4))\n",
    "proj_pad[:,:,5*N//4:] = np.tile(np.reshape(proj[:,:,-1],[proj.shape[0],proj.shape[1],1]),(1,1,N//4))\n",
    "\n",
    "proj = proj_pad\n",
    "rot_center = rot_center+N//4"
   ]
  },
  {
   "cell_type": "markdown",
   "metadata": {},
   "source": [
    "# select / define tomo algorithms"
   ]
  },
  {
   "cell_type": "code",
   "execution_count": null,
   "metadata": {},
   "outputs": [],
   "source": [
    "def rec_sirtfbp(data, theta, rot_center, start=0, test_sirtfbp_iter = False, ncore=None):\n",
    "\n",
    "    # Use test_sirtfbp_iter = True to test which number of iterations is suitable for your dataset\n",
    "    # Filters are saved in .mat files in \"site_data_dir/tmp/\"\n",
    "    if test_sirtfbp_iter:\n",
    "        nCol = data.shape[2]\n",
    "        output_name = site_data_dir+'/tmp/test_iter/'\n",
    "        num_iter = [50,100,150]\n",
    "        filter_dict = sirtfilter.getfilter(nCol, theta, num_iter, filter_dir=site_data_dir+'/tmp/', ncore=ncore)\n",
    "        for its in num_iter:\n",
    "            tomopy_filter = sirtfilter.convert_to_tomopy_filter(filter_dict[its], nCol)\n",
    "            rec = tomopy.recon(data, theta, center=rot_center, algorithm='gridrec', filter_name='custom2d', filter_par=tomopy_filter, ncore=ncore)\n",
    "            output_name_2 = output_name + 'sirt_fbp_%iiter_slice_' % its\n",
    "            dxchange.write_tiff_stack(data, fname=output_name_2, start=start, dtype='float32')\n",
    "\n",
    "    # Reconstruct object using sirt-fbp algorithm:\n",
    "    num_iter = 100\n",
    "    nCol = data.shape[2]\n",
    "    sirtfbp_filter = sirtfilter.getfilter(nCol, theta, num_iter, filter_dir=site_data_dir+'/tmp/', ncore=ncore)\n",
    "    tomopy_filter = sirtfilter.convert_to_tomopy_filter(sirtfbp_filter, nCol)\n",
    "    rec = tomopy.recon(data, theta, center=rot_center, algorithm='gridrec', filter_name='custom2d', filter_par=tomopy_filter, ncore=ncore)\n",
    "    \n",
    "    return rec"
   ]
  },
  {
   "cell_type": "code",
   "execution_count": null,
   "metadata": {},
   "outputs": [],
   "source": [
    "algorithm = 'gridrec'\n",
    "#algorithm = 'sirtfbp'"
   ]
  },
  {
   "cell_type": "code",
   "execution_count": null,
   "metadata": {},
   "outputs": [],
   "source": [
    "slice_first=0 #0 #500\n",
    "slice_last=proj.shape[1] #501\n",
    "aproj=proj[:,slice_first:slice_last,:]\n",
    "print(aproj.shape)"
   ]
  },
  {
   "cell_type": "code",
   "execution_count": null,
   "metadata": {},
   "outputs": [],
   "source": [
    "if algorithm == 'sirtfbp':\n",
    "    recon = rec_sirtfbp(aproj, theta, rot_center, ncore=ncore)\n",
    "else:\n",
    "    recon = tomopy.recon(aproj, theta, center=rot_center, algorithm=algorithm, filter_name='parzen', ncore=ncore)\n",
    "recon = recon[:,N//4:5*N//4,N//4:5*N//4]\n",
    "        \n",
    "print(\"Algorithm: \", algorithm)"
   ]
  },
  {
   "cell_type": "markdown",
   "metadata": {},
   "source": [
    "print(recon.shape)"
   ]
  },
  {
   "cell_type": "code",
   "execution_count": null,
   "metadata": {},
   "outputs": [],
   "source": [
    "print(recon.shape)"
   ]
  },
  {
   "cell_type": "markdown",
   "metadata": {},
   "source": [
    "Mask each reconstructed slice with a circle."
   ]
  },
  {
   "cell_type": "code",
   "execution_count": null,
   "metadata": {},
   "outputs": [],
   "source": [
    "recon = tomopy.circ_mask(recon, axis=0, ratio=0.95, ncore=ncore)"
   ]
  },
  {
   "cell_type": "code",
   "execution_count": null,
   "metadata": {},
   "outputs": [],
   "source": [
    "plt.figure(figsize=(9,8))\n",
    "plt.imshow(recon[30,:,:], cmap='RdPu') \n",
    "plt.show()"
   ]
  },
  {
   "cell_type": "code",
   "execution_count": null,
   "metadata": {},
   "outputs": [],
   "source": [
    "tifffile.imsave(output_image_file,recon)"
   ]
  },
  {
   "cell_type": "code",
   "execution_count": null,
   "metadata": {},
   "outputs": [],
   "source": []
  }
 ],
 "metadata": {
  "kernelspec": {
   "display_name": "Tomorec Kernel",
   "language": "python",
   "name": "tomorec-kernel"
  },
  "language_info": {
   "codemirror_mode": {
    "name": "ipython",
    "version": 3
   },
   "file_extension": ".py",
   "mimetype": "text/x-python",
   "name": "python",
   "nbconvert_exporter": "python",
   "pygments_lexer": "ipython3",
   "version": "3.7.6"
  }
 },
 "nbformat": 4,
 "nbformat_minor": 4
}
